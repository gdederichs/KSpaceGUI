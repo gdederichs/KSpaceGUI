{
 "cells": [
  {
   "cell_type": "code",
   "execution_count": null,
   "id": "22670fa5",
   "metadata": {},
   "outputs": [],
   "source": [
    "%matplotlib widget\n",
    "from src.kspace_core import KSpaceInteractive\n",
    "import matplotlib.pyplot as plt\n",
    "%load_ext autoreload\n",
    "%autoreload 2"
   ]
  },
  {
   "cell_type": "code",
   "execution_count": null,
   "id": "ff3c844b",
   "metadata": {},
   "outputs": [],
   "source": [
    "plt.close('all')\n",
    "_ = KSpaceInteractive()"
   ]
  }
 ],
 "metadata": {
  "kernelspec": {
   "display_name": "kspacegui",
   "language": "python",
   "name": "python3"
  },
  "language_info": {
   "codemirror_mode": {
    "name": "ipython",
    "version": 3
   },
   "file_extension": ".py",
   "mimetype": "text/x-python",
   "name": "python",
   "nbconvert_exporter": "python",
   "pygments_lexer": "ipython3",
   "version": "3.12.9"
  }
 },
 "nbformat": 4,
 "nbformat_minor": 5
}
