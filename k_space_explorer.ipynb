{
 "cells": [
  {
   "cell_type": "code",
   "execution_count": 10,
   "id": "22670fa5",
   "metadata": {},
   "outputs": [],
   "source": [
    "%matplotlib widget\n",
    "from src.kspace_core import KSpaceInteractive\n",
    "import matplotlib.pyplot as plt\n",
    "%load_ext autoreload\n",
    "%autoreload 2"
   ]
  },
  {
   "cell_type": "code",
   "execution_count": 13,
   "id": "ff3c844b",
   "metadata": {},
   "outputs": [
    {
     "data": {
      "application/vnd.jupyter.widget-view+json": {
       "model_id": "4c0a2782ceaa443f8f2163ad62a0f10e",
       "version_major": 2,
       "version_minor": 0
      },
      "text/plain": [
       "FileUpload(value=(), accept='image/*', description='Upload')"
      ]
     },
     "metadata": {},
     "output_type": "display_data"
    },
    {
     "data": {
      "application/vnd.jupyter.widget-view+json": {
       "model_id": "fd6fe753a9654033a79181344373a3e6",
       "version_major": 2,
       "version_minor": 0
      },
      "text/plain": [
       "Button(description='Process Image', style=ButtonStyle())"
      ]
     },
     "metadata": {},
     "output_type": "display_data"
    }
   ],
   "source": [
    "plt.close('all')\n",
    "_ = KSpaceInteractive()"
   ]
  }
 ],
 "metadata": {
  "kernelspec": {
   "display_name": "kspacegui",
   "language": "python",
   "name": "python3"
  },
  "language_info": {
   "codemirror_mode": {
    "name": "ipython",
    "version": 3
   },
   "file_extension": ".py",
   "mimetype": "text/x-python",
   "name": "python",
   "nbconvert_exporter": "python",
   "pygments_lexer": "ipython3",
   "version": "3.12.9"
  }
 },
 "nbformat": 4,
 "nbformat_minor": 5
}
